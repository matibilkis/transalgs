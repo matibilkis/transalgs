{
 "cells": [
  {
   "cell_type": "markdown",
   "id": "sunrise-african",
   "metadata": {},
   "source": [
    "Here we will explore Google OR-Tools for solving combinatorial problems."
   ]
  },
  {
   "cell_type": "code",
   "execution_count": 1,
   "id": "fewer-narrative",
   "metadata": {},
   "outputs": [],
   "source": [
    "from ortools.constraint_solver import routing_enums_pb2\n",
    "from ortools.constraint_solver import pywrapcp"
   ]
  },
  {
   "cell_type": "markdown",
   "id": "continuous-strength",
   "metadata": {},
   "source": [
    "The map of the city is loaded accordint to a distance_matrix, $d_{ij}$, which denotes the distance from $i \\rightarrow j$ (not necessary symmetric!)"
   ]
  },
  {
   "cell_type": "code",
   "execution_count": 2,
   "id": "spare-oliver",
   "metadata": {},
   "outputs": [],
   "source": [
    "def create_data_model():\n",
    "    \"\"\"Stores the data for the problem.\"\"\"\n",
    "    data = {}\n",
    "    data['distance_matrix'] = [\n",
    "        [\n",
    "            0, 548, 776, 696, 582, 274, 502, 194, 308, 194, 536, 502, 388, 354,\n",
    "            468, 776, 662\n",
    "        ],\n",
    "        [\n",
    "            548, 0, 684, 308, 194, 502, 730, 354, 696, 742, 1084, 594, 480, 674,\n",
    "            1016, 868, 1210\n",
    "        ],\n",
    "        [\n",
    "            776, 684, 0, 992, 878, 502, 274, 810, 468, 742, 400, 1278, 1164,\n",
    "            1130, 788, 1552, 754\n",
    "        ],\n",
    "        [\n",
    "            696, 308, 992, 0, 114, 650, 878, 502, 844, 890, 1232, 514, 628, 822,\n",
    "            1164, 560, 1358\n",
    "        ],\n",
    "        [\n",
    "            582, 194, 878, 114, 0, 536, 764, 388, 730, 776, 1118, 400, 514, 708,\n",
    "            1050, 674, 1244\n",
    "        ],\n",
    "        [\n",
    "            274, 502, 502, 650, 536, 0, 228, 308, 194, 240, 582, 776, 662, 628,\n",
    "            514, 1050, 708\n",
    "        ],\n",
    "        [\n",
    "            502, 730, 274, 878, 764, 228, 0, 536, 194, 468, 354, 1004, 890, 856,\n",
    "            514, 1278, 480\n",
    "        ],\n",
    "        [\n",
    "            194, 354, 810, 502, 388, 308, 536, 0, 342, 388, 730, 468, 354, 320,\n",
    "            662, 742, 856\n",
    "        ],\n",
    "        [\n",
    "            308, 696, 468, 844, 730, 194, 194, 342, 0, 274, 388, 810, 696, 662,\n",
    "            320, 1084, 514\n",
    "        ],\n",
    "        [\n",
    "            194, 742, 742, 890, 776, 240, 468, 388, 274, 0, 342, 536, 422, 388,\n",
    "            274, 810, 468\n",
    "        ],\n",
    "        [\n",
    "            536, 1084, 400, 1232, 1118, 582, 354, 730, 388, 342, 0, 878, 764,\n",
    "            730, 388, 1152, 354\n",
    "        ],\n",
    "        [\n",
    "            502, 594, 1278, 514, 400, 776, 1004, 468, 810, 536, 878, 0, 114,\n",
    "            308, 650, 274, 844\n",
    "        ],\n",
    "        [\n",
    "            388, 480, 1164, 628, 514, 662, 890, 354, 696, 422, 764, 114, 0, 194,\n",
    "            536, 388, 730\n",
    "        ],\n",
    "        [\n",
    "            354, 674, 1130, 822, 708, 628, 856, 320, 662, 388, 730, 308, 194, 0,\n",
    "            342, 422, 536\n",
    "        ],\n",
    "        [\n",
    "            468, 1016, 788, 1164, 1050, 514, 514, 662, 320, 274, 388, 650, 536,\n",
    "            342, 0, 764, 194\n",
    "        ],\n",
    "        [\n",
    "            776, 868, 1552, 560, 674, 1050, 1278, 742, 1084, 810, 1152, 274,\n",
    "            388, 422, 764, 0, 798\n",
    "        ],\n",
    "        [\n",
    "            662, 1210, 754, 1358, 1244, 708, 480, 856, 514, 468, 354, 844, 730,\n",
    "            536, 194, 798, 0\n",
    "        ],\n",
    "    ]\n",
    "    data['num_vehicles'] = 4\n",
    "    data['depot'] = 0\n",
    "    return data\n",
    "    # [END data_model]\n"
   ]
  },
  {
   "cell_type": "code",
   "execution_count": 3,
   "id": "recreational-contemporary",
   "metadata": {},
   "outputs": [],
   "source": [
    "data = create_data_model()"
   ]
  },
  {
   "cell_type": "code",
   "execution_count": 8,
   "id": "superb-boating",
   "metadata": {},
   "outputs": [
    {
     "data": {
      "text/plain": [
       "<matplotlib.colorbar.Colorbar at 0x7f4621c15f98>"
      ]
     },
     "execution_count": 8,
     "metadata": {},
     "output_type": "execute_result"
    },
    {
     "data": {
      "image/png": "[encoded data removed]",
      "text/plain": [
       "<Figure size 720x720 with 2 Axes>"
      ]
     },
     "metadata": {
      "needs_background": "light"
     },
     "output_type": "display_data"
    }
   ],
   "source": [
    "import matplotlib.pyplot as plt\n",
    "import numpy as np\n",
    "fig = plt.figure(figsize=(10,10))\n",
    "im=plt.imshow(np.array(data[\"distance_matrix\"]))\n",
    "fig.colorbar(im)"
   ]
  },
  {
   "cell_type": "code",
   "execution_count": null,
   "id": "sweet-lesbian",
   "metadata": {},
   "outputs": [],
   "source": []
  }
 ],
 "metadata": {
  "kernelspec": {
   "display_name": "Python 3",
   "language": "python",
   "name": "python3"
  },
  "language_info": {
   "codemirror_mode": {
    "name": "ipython",
    "version": 3
   },
   "file_extension": ".py",
   "mimetype": "text/x-python",
   "name": "python",
   "nbconvert_exporter": "python",
   "pygments_lexer": "ipython3",
   "version": "3.6.9"
  }
 },
 "nbformat": 4,
 "nbformat_minor": 5
}
