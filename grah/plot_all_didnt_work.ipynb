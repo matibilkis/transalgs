{
 "cells": [
  {
   "cell_type": "code",
   "execution_count": 33,
   "id": "internal-resistance",
   "metadata": {},
   "outputs": [],
   "source": [
    "import dask.dataframe as dd\n",
    "from dask.diagnostics import ProgressBar\n",
    "import dask.dataframe as dd\n",
    "from dask.diagnostics import ProgressBar\n",
    "import os\n",
    "import datashader\n",
    "import datashader.transfer_functions\n",
    "from datashader.utils import lnglat_to_meters\n",
    "import holoviews\n",
    "import geoviews\n",
    "from holoviews.operation.datashader import datashade\n",
    "\n",
    "\n",
    "data = dd.read_csv(\"Datos_Vega.csv\", sep=\";\",encoding = \"ISO-8859-1\")\n",
    "data1 = data[[\"LONGITUD\",\"LONGITUD\"]] "
   ]
  },
  {
   "cell_type": "code",
   "execution_count": 34,
   "id": "neural-essay",
   "metadata": {},
   "outputs": [
    {
     "name": "stdout",
     "output_type": "stream",
     "text": [
      "NROTARJETA\n",
      "MODO\n",
      "JURISDICCION\n",
      "ENTIDAD\n",
      "LINEA\n",
      "RAMAL\n",
      "INTERNO\n",
      "TIPO_TARIFA\n",
      "CODIGOCONTRATO\n",
      "MOTIVO_ATS\n",
      "SEXO\n",
      "LONGITUD\n",
      "LATITUD\n",
      "FECHA_HORA\n",
      "ORDEN_TRX\n"
     ]
    }
   ],
   "source": [
    "for k in list(data.columns):\n",
    "    print(k)\n",
    "    if k not in [\"LONGITUD\",\"LATITUD\"]:\n",
    "        data = data.drop(k,axis=1)\n"
   ]
  },
  {
   "cell_type": "code",
   "execution_count": 35,
   "id": "engaging-resource",
   "metadata": {},
   "outputs": [
    {
     "name": "stdout",
     "output_type": "stream",
     "text": [
      "[########################################] | 100% Completed | 10min 21.1s\n"
     ]
    }
   ],
   "source": [
    "with ProgressBar():\n",
    "    scene = datashader.Canvas(plot_width=600, plot_height=600, x_range=(-57.86,-57.95),y_range=(-34.95,-34.902))\n",
    "    aggregation = scene.points(data, 'LONGITUD', 'LATITUD')\n",
    "    image = datashader.transfer_functions.shade(aggregation)\n"
   ]
  },
  {
   "cell_type": "code",
   "execution_count": null,
   "id": "massive-candidate",
   "metadata": {},
   "outputs": [],
   "source": []
  }
 ],
 "metadata": {
  "kernelspec": {
   "display_name": "Python 3",
   "language": "python",
   "name": "python3"
  },
  "language_info": {
   "codemirror_mode": {
    "name": "ipython",
    "version": 3
   },
   "file_extension": ".py",
   "mimetype": "text/x-python",
   "name": "python",
   "nbconvert_exporter": "python",
   "pygments_lexer": "ipython3",
   "version": "3.6.9"
  }
 },
 "nbformat": 4,
 "nbformat_minor": 5
}
