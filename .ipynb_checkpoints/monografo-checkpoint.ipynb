{
 "cells": [
  {
   "cell_type": "code",
   "execution_count": 1,
   "metadata": {},
   "outputs": [],
   "source": [
    "import networkx as nx\n",
    "import numpy as np\n",
    "import matplotlib.pyplot as plt\n",
    "\n",
    "\n",
    "def add_path_bi(g,a,b,subnet=\"father\"):\n",
    "    \"\"\" Take a graph g and creates a bidirectional edge from node a to node b \"\"\"\n",
    "    g.add_path([a,b],net=subnet)\n",
    "    g.add_path([b,a],net=subnet)\n",
    "    return\n",
    "    "
   ]
  },
  {
   "cell_type": "code",
   "execution_count": null,
   "metadata": {},
   "outputs": [],
   "source": []
  },
  {
   "cell_type": "code",
   "execution_count": 13,
   "metadata": {},
   "outputs": [],
   "source": [
    "\n",
    "def create_lattice(ratio,N=4,M=4):\n",
    "    \"\"\" This function returns a city graph\n",
    "    that has two edge classes: father or mother. Father \n",
    "    refers to walking points, where mother to points connected with\n",
    "    transport line.\"\"\"\n",
    "    \n",
    "    city_graph = nx.DiGraph()\n",
    "    for i1 in range(M+1):\n",
    "        for i2 in range(N+1):\n",
    "            city_graph.add_nodes_from([(i1,i2)])\n",
    "            if (i1%ratio ==0)& (i2%ratio==0):\n",
    "                if i2 !=M:\n",
    "                    add_path_bi(city_graph,(i1,i2),(i1,i2+ratio),subnet=\"mother\")\n",
    "                if i1 !=0:\n",
    "                    add_path_bi(city_graph,(i1,i2),(i1-ratio,i2), subnet=\"mother\")\n",
    "            if i2!=M:\n",
    "                add_path_bi(city_graph, (i1,i2),(i1,i2+1),subnet=\"father\")\n",
    "            if i1!=0:\n",
    "                add_path_bi(city_graph,(i1,i2),(i1-1,i2), subnet=\"father\")\n",
    "    return city_graph\n",
    "\n"
   ]
  },
  {
   "cell_type": "code",
   "execution_count": 14,
   "metadata": {},
   "outputs": [],
   "source": [
    "city_graph = create_lattice(3,9,9)\n"
   ]
  },
  {
   "cell_type": "code",
   "execution_count": 17,
   "metadata": {},
   "outputs": [],
   "source": [
    "madre = nx.DiGraph(((source, target, attr) for source, target, attr \n",
    "                    in city_graph.edges(data=True) if attr['net'] == \"mother\"))\n"
   ]
  },
  {
   "cell_type": "code",
   "execution_count": 18,
   "metadata": {},
   "outputs": [
    {
     "data": {
      "text/plain": [
       "NodeView(((0, 0), (0, 3), (3, 0), (0, 6), (3, 3), (0, 9), (3, 6), (3, 9), (6, 0), (6, 3), (6, 6), (6, 9), (9, 0), (9, 3), (9, 6), (9, 9)))"
      ]
     },
     "execution_count": 18,
     "metadata": {},
     "output_type": "execute_result"
    }
   ],
   "source": [
    "madre.nodes"
   ]
  },
  {
   "cell_type": "code",
   "execution_count": 23,
   "metadata": {},
   "outputs": [
    {
     "data": {
      "image/png": "[encoded data removed]",
      "text/plain": [
       "<Figure size 432x288 with 1 Axes>"
      ]
     },
     "metadata": {},
     "output_type": "display_data"
    }
   ],
   "source": [
    "nx.draw_spectral(madre)"
   ]
  },
  {
   "cell_type": "code",
   "execution_count": 29,
   "metadata": {},
   "outputs": [
    {
     "data": {
      "text/plain": [
       "OutEdgeDataView([((3, 3), (3, 0)), ((3, 3), (3, 6)), ((3, 3), (0, 3)), ((3, 3), (6, 3))])"
      ]
     },
     "execution_count": 29,
     "metadata": {},
     "output_type": "execute_result"
    }
   ],
   "source": [
    "madre.edges(nbunch=[(3,3)])"
   ]
  },
  {
   "cell_type": "code",
   "execution_count": 31,
   "metadata": {},
   "outputs": [
    {
     "data": {
      "text/plain": [
       "[((0, 0), (0, 3)), ((0, 0), (3, 0))]"
      ]
     },
     "execution_count": 31,
     "metadata": {},
     "output_type": "execute_result"
    }
   ],
   "source": [
    "current_node = (0,0)\n",
    "list(madre.edges(nbunch=[current_node]))"
   ]
  },
  {
   "cell_type": "code",
   "execution_count": 83,
   "metadata": {},
   "outputs": [],
   "source": [
    "def random_closed_path(terminal_node):\n",
    "    \n",
    "    path=[]\n",
    "    path_complete = False\n",
    "\n",
    "    current_node = terminal_node\n",
    "    c=0\n",
    "    while not path_complete:\n",
    "        next_node = random.choice(list(madre.neighbors(current_node)))\n",
    "        if c==1:\n",
    "            while next_node == terminal_node: #avoid one-length path\n",
    "                next_node = random.choice(list(madre.neighbors(current_node)))\n",
    "        path.append((current_node,next_node))    \n",
    "        current_node = next_node\n",
    "        c+=1\n",
    "        if current_node == terminal_node:\n",
    "           path_complete = True\n",
    "    return path"
   ]
  },
  {
   "cell_type": "code",
   "execution_count": 84,
   "metadata": {},
   "outputs": [],
   "source": [
    "path = random_closed_path((0,0))\n"
   ]
  },
  {
   "cell_type": "code",
   "execution_count": 92,
   "metadata": {},
   "outputs": [],
   "source": [
    "path_graph = madre.edge_subgraph(path)"
   ]
  },
  {
   "cell_type": "code",
   "execution_count": 95,
   "metadata": {},
   "outputs": [
    {
     "ename": "AttributeError",
     "evalue": "'DiGraph' object has no attribute 'iter_edges'",
     "output_type": "error",
     "traceback": [
      "\u001b[0;31m---------------------------------------------------------------------------\u001b[0m",
      "\u001b[0;31mAttributeError\u001b[0m                            Traceback (most recent call last)",
      "\u001b[0;32m<ipython-input-95-7eb5c2b9da16>\u001b[0m in \u001b[0;36m<module>\u001b[0;34m\u001b[0m\n\u001b[1;32m      4\u001b[0m \u001b[0mcolors\u001b[0m \u001b[0;34m=\u001b[0m \u001b[0;34m[\u001b[0m\u001b[0;34m'r'\u001b[0m\u001b[0;34m,\u001b[0m \u001b[0;34m'b'\u001b[0m\u001b[0;34m,\u001b[0m \u001b[0;34m'y'\u001b[0m\u001b[0;34m]\u001b[0m\u001b[0;34m\u001b[0m\u001b[0;34m\u001b[0m\u001b[0m\n\u001b[1;32m      5\u001b[0m \u001b[0mlinewidths\u001b[0m \u001b[0;34m=\u001b[0m \u001b[0;34m[\u001b[0m\u001b[0;36m20\u001b[0m\u001b[0;34m,\u001b[0m\u001b[0;36m10\u001b[0m\u001b[0;34m,\u001b[0m\u001b[0;36m5\u001b[0m\u001b[0;34m]\u001b[0m\u001b[0;34m\u001b[0m\u001b[0;34m\u001b[0m\u001b[0m\n\u001b[0;32m----> 6\u001b[0;31m \u001b[0;32mfor\u001b[0m \u001b[0mctr\u001b[0m\u001b[0;34m,\u001b[0m \u001b[0medgelist\u001b[0m \u001b[0;32min\u001b[0m \u001b[0menumerate\u001b[0m\u001b[0;34m(\u001b[0m\u001b[0mpath_graph\u001b[0m\u001b[0;34m.\u001b[0m\u001b[0miter_edges\u001b[0m\u001b[0;34m)\u001b[0m\u001b[0;34m:\u001b[0m\u001b[0;34m\u001b[0m\u001b[0;34m\u001b[0m\u001b[0m\n\u001b[0m\u001b[1;32m      7\u001b[0m     \u001b[0mnx\u001b[0m\u001b[0;34m.\u001b[0m\u001b[0mdraw_networkx_edges\u001b[0m\u001b[0;34m(\u001b[0m\u001b[0mpath_graph\u001b[0m\u001b[0;34m,\u001b[0m\u001b[0mpos\u001b[0m\u001b[0;34m=\u001b[0m\u001b[0mpos\u001b[0m\u001b[0;34m,\u001b[0m\u001b[0medgelist\u001b[0m\u001b[0;34m=\u001b[0m\u001b[0medgelist\u001b[0m\u001b[0;34m,\u001b[0m\u001b[0medge_color\u001b[0m \u001b[0;34m=\u001b[0m \u001b[0mcolors\u001b[0m\u001b[0;34m[\u001b[0m\u001b[0mctr\u001b[0m\u001b[0;34m]\u001b[0m\u001b[0;34m,\u001b[0m \u001b[0mwidth\u001b[0m\u001b[0;34m=\u001b[0m\u001b[0mlinewidths\u001b[0m\u001b[0;34m[\u001b[0m\u001b[0mctr\u001b[0m\u001b[0;34m]\u001b[0m\u001b[0;34m)\u001b[0m\u001b[0;34m\u001b[0m\u001b[0;34m\u001b[0m\u001b[0m\n",
      "\u001b[0;31mAttributeError\u001b[0m: 'DiGraph' object has no attribute 'iter_edges'"
     ]
    },
    {
     "data": {
      "image/png": "[encoded data removed]",
      "text/plain": [
       "<Figure size 432x288 with 1 Axes>"
      ]
     },
     "metadata": {},
     "output_type": "display_data"
    }
   ],
   "source": [
    "pos = nx.spring_layout(path_graph)\n",
    "nx.draw_networkx_nodes(path_graph,pos=pos)\n",
    "nx.draw_networkx_labels(path_graph,pos=pos)\n",
    "colors = ['r', 'b', 'y']\n",
    "linewidths = [20,10,5]\n",
    "for ctr, edgelist in enumerate(list(path_graph.edges)):\n",
    "    nx.draw_networkx_edges(path_graph,pos=pos,edgelist=edgelist,edge_color = colors[ctr], width=linewidths[ctr])"
   ]
  },
  {
   "cell_type": "code",
   "execution_count": null,
   "metadata": {},
   "outputs": [],
   "source": []
  },
  {
   "cell_type": "code",
   "execution_count": null,
   "metadata": {},
   "outputs": [],
   "source": []
  }
 ],
 "metadata": {
  "kernelspec": {
   "display_name": "Python 3",
   "language": "python",
   "name": "python3"
  },
  "language_info": {
   "codemirror_mode": {
    "name": "ipython",
    "version": 3
   },
   "file_extension": ".py",
   "mimetype": "text/x-python",
   "name": "python",
   "nbconvert_exporter": "python",
   "pygments_lexer": "ipython3",
   "version": "3.7.1"
  }
 },
 "nbformat": 4,
 "nbformat_minor": 2
}
