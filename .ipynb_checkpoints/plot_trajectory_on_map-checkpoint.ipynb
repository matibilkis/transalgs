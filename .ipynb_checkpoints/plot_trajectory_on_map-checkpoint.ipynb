{
 "cells": [
  {
   "cell_type": "code",
   "execution_count": 80,
   "id": "conventional-overview",
   "metadata": {},
   "outputs": [],
   "source": [
    "import dask.dataframe as dd\n",
    "from dask.diagnostics import ProgressBar\n",
    "import matplotlib.pyplot as plt\n",
    "import numpy as np\n",
    "from datetime import datetime\n",
    "from tqdm import tqdm"
   ]
  },
  {
   "cell_type": "code",
   "execution_count": 2,
   "id": "headed-vegetarian",
   "metadata": {},
   "outputs": [],
   "source": [
    "df = dd.read_csv(\"datos_SUBE/Datos_Vega.csv\",encoding = \"ISO-8859-1\", sep=\";\")"
   ]
  },
  {
   "cell_type": "code",
   "execution_count": 3,
   "id": "pregnant-exploration",
   "metadata": {},
   "outputs": [
    {
     "name": "stderr",
     "output_type": "stream",
     "text": [
      "/home/cooper-cooper/.local/lib/python3.6/site-packages/dask/dataframe/core.py:3370: UserWarning: \n",
      "You did not provide metadata, so Dask is running your function on a small dataset to guess output types. It is possible that Dask will guess incorrectly.\n",
      "To provide an explicit output types or to silence this message, please provide the `meta=` keyword, as described in the map or apply function that you are using.\n",
      "  Before: .apply(func)\n",
      "  After:  .apply(func, meta=('FECHA_HORA', 'object'))\n",
      "\n",
      "  warnings.warn(meta_warning(meta))\n"
     ]
    }
   ],
   "source": [
    "columns_keep = [\"LONGITUD\",\"LATITUD\",\"FECHA_HORA\",\"RAMAL\",\"MODO\"]\n",
    "df_fil = df[columns_keep]\n",
    "\n",
    "\n",
    "cond = \"MODO\" == \"COL\"\n",
    "condition_modo = df_fil[\"MODO\"] == \"COL\"\n",
    "df_fil_modo = df_fil[condition_modo]\n",
    "\n",
    "df_fil1 = df_fil_modo.drop([\"MODO\"], axis=1)\n",
    "df_fil1[\"HORA\"] = df_fil1[\"FECHA_HORA\"].apply(lambda x: x[-2:])\n",
    "df_fil1[\"FECHA\"] = df_fil1[\"FECHA_HORA\"].apply(lambda x: datetime.strptime(x[:-3],\"%d/%m/%Y\"), meta=('x',str))\n",
    "df_fil1= df_fil1.drop([\"FECHA_HORA\"],axis=1)\n",
    "#df_fil1= df_fil1.set_index(\"FECHA\") "
   ]
  },
  {
   "cell_type": "markdown",
   "id": "incredible-archives",
   "metadata": {},
   "source": [
    "#### INSPECT SINGLE PARTITION"
   ]
  },
  {
   "cell_type": "code",
   "execution_count": 4,
   "id": "paperback-tennessee",
   "metadata": {},
   "outputs": [
    {
     "name": "stdout",
     "output_type": "stream",
     "text": [
      "[########################################] | 100% Completed |  4.7s\n"
     ]
    }
   ],
   "source": [
    "par1 = df_fil1.get_partition(0)\n",
    "with ProgressBar():\n",
    "    dp1 = par1.compute()"
   ]
  },
  {
   "cell_type": "code",
   "execution_count": 9,
   "id": "parental-diabetes",
   "metadata": {},
   "outputs": [],
   "source": [
    "import networkx as nx\n",
    "import osmnx as ox\n",
    "ox.config(log_console=True)\n",
    "from IPython.display import IFrame\n",
    "import os \n",
    "\n"
   ]
  },
  {
   "cell_type": "code",
   "execution_count": 10,
   "id": "through-october",
   "metadata": {},
   "outputs": [],
   "source": [
    "Gdrive = ox.io.load_graphml(\"graph_data/drive\")"
   ]
  },
  {
   "cell_type": "code",
   "execution_count": 11,
   "id": "smaller-craps",
   "metadata": {},
   "outputs": [
    {
     "data": {
      "text/html": [
       "\n",
       "        <iframe\n",
       "            width=\"600\"\n",
       "            height=\"500\"\n",
       "            src=\"data_map_plots/graph.html\"\n",
       "            frameborder=\"0\"\n",
       "            allowfullscreen\n",
       "        ></iframe>\n",
       "        "
      ],
      "text/plain": [
       "<IPython.lib.display.IFrame at 0x7f6c5c708160>"
      ]
     },
     "execution_count": 11,
     "metadata": {},
     "output_type": "execute_result"
    }
   ],
   "source": [
    "m1 = ox.plot_graph_folium(Gdrive, popup_attribute=\"name\", weight=2, color=\"#8b0000\")\n",
    "# save as html file then display map as an iframe\n",
    "os.makedirs(\"data_map_plots\",exist_ok=True)\n",
    "filepath = \"data_map_plots/graph.html\"\n",
    "m1.save(filepath)\n",
    "IFrame(filepath, width=600, height=500)"
   ]
  },
  {
   "cell_type": "code",
   "execution_count": 14,
   "id": "proper-vanilla",
   "metadata": {},
   "outputs": [],
   "source": [
    "dp1 = dp1.set_index(\"FECHA\")"
   ]
  },
  {
   "cell_type": "code",
   "execution_count": 21,
   "id": "warming-insured",
   "metadata": {},
   "outputs": [
    {
     "ename": "TypeError",
     "evalue": "descriptor 'date' requires a 'datetime.datetime' object but received a 'tuple'",
     "output_type": "error",
     "traceback": [
      "\u001b[0;31m---------------------------------------------------------------------------\u001b[0m",
      "\u001b[0;31mTypeError\u001b[0m                                 Traceback (most recent call last)",
      "\u001b[0;32m<ipython-input-21-359996ac9261>\u001b[0m in \u001b[0;36m<module>\u001b[0;34m\u001b[0m\n\u001b[0;32m----> 1\u001b[0;31m \u001b[0mdp1\u001b[0m\u001b[0;34m[\u001b[0m\u001b[0mdatetime\u001b[0m\u001b[0;34m.\u001b[0m\u001b[0mdate\u001b[0m\u001b[0;34m(\u001b[0m\u001b[0;34m(\u001b[0m\u001b[0;36m4\u001b[0m\u001b[0;34m,\u001b[0m\u001b[0;36m2\u001b[0m\u001b[0;34m,\u001b[0m\u001b[0;36m2019\u001b[0m\u001b[0;34m)\u001b[0m\u001b[0;34m)\u001b[0m\u001b[0;34m]\u001b[0m\u001b[0;34m\u001b[0m\u001b[0;34m\u001b[0m\u001b[0m\n\u001b[0m",
      "\u001b[0;31mTypeError\u001b[0m: descriptor 'date' requires a 'datetime.datetime' object but received a 'tuple'"
     ]
    }
   ],
   "source": [
    "dp1[datetime.date((4,2,2019))]"
   ]
  },
  {
   "cell_type": "code",
   "execution_count": 23,
   "id": "rough-reflection",
   "metadata": {},
   "outputs": [
    {
     "data": {
      "text/plain": [
       "Timestamp('2019-12-04 00:00:00')"
      ]
     },
     "execution_count": 23,
     "metadata": {},
     "output_type": "execute_result"
    }
   ],
   "source": [
    "dp1.index[0]"
   ]
  },
  {
   "cell_type": "code",
   "execution_count": 30,
   "id": "everyday-million",
   "metadata": {},
   "outputs": [],
   "source": [
    "import pandas as pd\n",
    "draw = dp1.loc[pd.Timestamp(2019,12,4)]"
   ]
  },
  {
   "cell_type": "code",
   "execution_count": 32,
   "id": "outdoor-saturn",
   "metadata": {},
   "outputs": [
    {
     "data": {
      "text/plain": [
       "{'202G', '307D', '503R16', '561BA', 'OE65', 'SUR19', 'SUR21'}"
      ]
     },
     "execution_count": 32,
     "metadata": {},
     "output_type": "execute_result"
    }
   ],
   "source": [
    "set(draw[\"RAMAL\"])"
   ]
  },
  {
   "cell_type": "code",
   "execution_count": 53,
   "id": "actual-forum",
   "metadata": {},
   "outputs": [],
   "source": [
    "draw = draw[draw[\"RAMAL\"] == \"202G\"]\n",
    "draw[\"HORA\"] = pd.to_numeric(draw[\"HORA\"])"
   ]
  },
  {
   "cell_type": "code",
   "execution_count": 62,
   "id": "gross-christian",
   "metadata": {},
   "outputs": [],
   "source": [
    "points = draw[[\"LATITUD\",\"LONGITUD\"]]"
   ]
  },
  {
   "cell_type": "code",
   "execution_count": 81,
   "id": "institutional-mixer",
   "metadata": {},
   "outputs": [
    {
     "data": {
      "text/plain": [
       "LATITUD    -34.930\n",
       "LONGITUD   -57.944\n",
       "Name: 2019-12-04 00:00:00, dtype: float64"
      ]
     },
     "execution_count": 81,
     "metadata": {},
     "output_type": "execute_result"
    }
   ],
   "source": [
    "get_coords = lambda x: np.round([x[\"LATITUD\"], x[\"LONGITUD\"]],2)\n",
    "points.iloc[0]"
   ]
  },
  {
   "cell_type": "code",
   "execution_count": 82,
   "id": "measured-voltage",
   "metadata": {},
   "outputs": [
    {
     "data": {
      "text/plain": [
       "array([-34.93, -57.94])"
      ]
     },
     "execution_count": 82,
     "metadata": {},
     "output_type": "execute_result"
    }
   ],
   "source": [
    "get_coords(points.iloc[0])"
   ]
  },
  {
   "cell_type": "code",
   "execution_count": 116,
   "id": "adapted-trinity",
   "metadata": {},
   "outputs": [
    {
     "name": "stderr",
     "output_type": "stream",
     "text": [
      "100%|██████████| 3981/3981 [00:00<00:00, 9278.62it/s]\n"
     ]
    }
   ],
   "source": [
    "Gdrive = ox.io.load_graphml(\"graph_data/walk\")\n",
    "gps_points_to_node = {}\n",
    "all_lats = []\n",
    "all_longs = []\n",
    "for node in tqdm(list(Gdrive.nodes)):\n",
    "    lat_lon= np.array([Gdrive.nodes[node][\"y\"],Gdrive.nodes[node][\"x\"]])\n",
    "    gps_points_to_node[str(lat_lon)] = node\n",
    "    all_lats.append(Gdrive.nodes[node][\"y\"])\n",
    "    all_longs.append(Gdrive.nodes[node][\"x\"])"
   ]
  },
  {
   "cell_type": "code",
   "execution_count": 111,
   "id": "structured-converter",
   "metadata": {},
   "outputs": [],
   "source": [
    "all_lats = np.array(all_lats)\n",
    "all_longs = np.array(all_longs)"
   ]
  },
  {
   "cell_type": "code",
   "execution_count": 106,
   "id": "previous-stadium",
   "metadata": {},
   "outputs": [],
   "source": [
    "popo = [get_coords(points.iloc[j]) for j in range(len(points))]"
   ]
  },
  {
   "cell_type": "code",
   "execution_count": 119,
   "id": "local-welding",
   "metadata": {},
   "outputs": [
    {
     "ename": "KeyError",
     "evalue": "'[-34.8875541 -57.9131672]'",
     "output_type": "error",
     "traceback": [
      "\u001b[0;31m---------------------------------------------------------------------------\u001b[0m",
      "\u001b[0;31mKeyError\u001b[0m                                  Traceback (most recent call last)",
      "\u001b[0;32m<ipython-input-119-35b1da5f0d46>\u001b[0m in \u001b[0;36m<module>\u001b[0;34m\u001b[0m\n\u001b[1;32m      2\u001b[0m     \u001b[0mlocate_lat\u001b[0m \u001b[0;34m=\u001b[0m \u001b[0mall_lats\u001b[0m\u001b[0;34m[\u001b[0m\u001b[0mnp\u001b[0m\u001b[0;34m.\u001b[0m\u001b[0margmax\u001b[0m\u001b[0;34m(\u001b[0m\u001b[0mall_lats\u001b[0m \u001b[0;34m-\u001b[0m \u001b[0mx\u001b[0m\u001b[0;34m[\u001b[0m\u001b[0;36m0\u001b[0m\u001b[0;34m]\u001b[0m\u001b[0;34m)\u001b[0m\u001b[0;34m]\u001b[0m\u001b[0;34m\u001b[0m\u001b[0;34m\u001b[0m\u001b[0m\n\u001b[1;32m      3\u001b[0m     \u001b[0mlocate_lon\u001b[0m \u001b[0;34m=\u001b[0m \u001b[0mall_longs\u001b[0m\u001b[0;34m[\u001b[0m\u001b[0mnp\u001b[0m\u001b[0;34m.\u001b[0m\u001b[0margmax\u001b[0m\u001b[0;34m(\u001b[0m\u001b[0mall_longs\u001b[0m \u001b[0;34m-\u001b[0m \u001b[0mx\u001b[0m\u001b[0;34m[\u001b[0m\u001b[0;36m1\u001b[0m\u001b[0;34m]\u001b[0m\u001b[0;34m)\u001b[0m\u001b[0;34m]\u001b[0m\u001b[0;34m\u001b[0m\u001b[0;34m\u001b[0m\u001b[0m\n\u001b[0;32m----> 4\u001b[0;31m     \u001b[0mgps_points_to_node\u001b[0m\u001b[0;34m[\u001b[0m\u001b[0mstr\u001b[0m\u001b[0;34m(\u001b[0m\u001b[0mnp\u001b[0m\u001b[0;34m.\u001b[0m\u001b[0marray\u001b[0m\u001b[0;34m(\u001b[0m\u001b[0;34m[\u001b[0m\u001b[0mlocate_lat\u001b[0m\u001b[0;34m,\u001b[0m \u001b[0mlocate_lon\u001b[0m\u001b[0;34m]\u001b[0m\u001b[0;34m)\u001b[0m\u001b[0;34m)\u001b[0m\u001b[0;34m]\u001b[0m\u001b[0;34m\u001b[0m\u001b[0;34m\u001b[0m\u001b[0m\n\u001b[0m",
      "\u001b[0;31mKeyError\u001b[0m: '[-34.8875541 -57.9131672]'"
     ]
    }
   ],
   "source": [
    "for x in popo:\n",
    "    locate_lat = all_lats[np.argmax(all_lats - x[0])]\n",
    "    locate_lon = all_longs[np.argmax(all_longs - x[1])]\n",
    "    gps_points_to_node[str(np.array([locate_lat, locate_lon]))]"
   ]
  },
  {
   "cell_type": "code",
   "execution_count": null,
   "id": "distributed-cartridge",
   "metadata": {},
   "outputs": [],
   "source": []
  }
 ],
 "metadata": {
  "kernelspec": {
   "display_name": "Python 3",
   "language": "python",
   "name": "python3"
  },
  "language_info": {
   "codemirror_mode": {
    "name": "ipython",
    "version": 3
   },
   "file_extension": ".py",
   "mimetype": "text/x-python",
   "name": "python",
   "nbconvert_exporter": "python",
   "pygments_lexer": "ipython3",
   "version": "3.6.9"
  }
 },
 "nbformat": 4,
 "nbformat_minor": 5
}
