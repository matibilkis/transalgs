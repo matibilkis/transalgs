{
 "cells": [
  {
   "cell_type": "code",
   "execution_count": 1,
   "id": "conventional-overview",
   "metadata": {},
   "outputs": [],
   "source": [
    "import dask.dataframe as dd\n",
    "from dask.diagnostics import ProgressBar\n",
    "import matplotlib.pyplot as plt\n",
    "import numpy as np\n",
    "from datetime import datetime"
   ]
  },
  {
   "cell_type": "code",
   "execution_count": 2,
   "id": "headed-vegetarian",
   "metadata": {},
   "outputs": [],
   "source": [
    "df = dd.read_csv(\"datos_SUBE/Datos_Vega.csv\",encoding = \"ISO-8859-1\", sep=\";\")"
   ]
  },
  {
   "cell_type": "code",
   "execution_count": 3,
   "id": "pending-excuse",
   "metadata": {},
   "outputs": [
    {
     "name": "stdout",
     "output_type": "stream",
     "text": [
      "[########################################] | 100% Completed |  1.5s\n"
     ]
    },
    {
     "data": {
      "text/html": [
       "<div>\n",
       "<style scoped>\n",
       "    .dataframe tbody tr th:only-of-type {\n",
       "        vertical-align: middle;\n",
       "    }\n",
       "\n",
       "    .dataframe tbody tr th {\n",
       "        vertical-align: top;\n",
       "    }\n",
       "\n",
       "    .dataframe thead th {\n",
       "        text-align: right;\n",
       "    }\n",
       "</style>\n",
       "<table border=\"1\" class=\"dataframe\">\n",
       "  <thead>\n",
       "    <tr style=\"text-align: right;\">\n",
       "      <th></th>\n",
       "      <th>NROTARJETA</th>\n",
       "      <th>MODO</th>\n",
       "      <th>JURISDICCION</th>\n",
       "      <th>ENTIDAD</th>\n",
       "      <th>LINEA</th>\n",
       "      <th>RAMAL</th>\n",
       "      <th>INTERNO</th>\n",
       "      <th>TIPO_TARIFA</th>\n",
       "      <th>CODIGOCONTRATO</th>\n",
       "      <th>MOTIVO_ATS</th>\n",
       "      <th>SEXO</th>\n",
       "      <th>LONGITUD</th>\n",
       "      <th>LATITUD</th>\n",
       "      <th>FECHA_HORA</th>\n",
       "      <th>ORDEN_TRX</th>\n",
       "    </tr>\n",
       "  </thead>\n",
       "  <tbody>\n",
       "    <tr>\n",
       "      <th>0</th>\n",
       "      <td>7E3D75678B9506DDB9BA6459BC8700</td>\n",
       "      <td>COL</td>\n",
       "      <td>MUNICIPAL</td>\n",
       "      <td>EMPRESA NUEVE DE JULIO S.A.T.</td>\n",
       "      <td>BSAS_LINEA_561B</td>\n",
       "      <td>561BA</td>\n",
       "      <td>0C14D0A20466B9E62B8C</td>\n",
       "      <td>Tarifa_desc_ATSF</td>\n",
       "      <td>621</td>\n",
       "      <td>AUH</td>\n",
       "      <td>F</td>\n",
       "      <td>-58.052</td>\n",
       "      <td>-34.954</td>\n",
       "      <td>04/12/2019 06</td>\n",
       "      <td>4.0</td>\n",
       "    </tr>\n",
       "    <tr>\n",
       "      <th>1</th>\n",
       "      <td>NaN</td>\n",
       "      <td>COL</td>\n",
       "      <td>MUNICIPAL</td>\n",
       "      <td>EMPRESA NUEVE DE JULIO S.A.T.</td>\n",
       "      <td>BSAS_LINEA_561B</td>\n",
       "      <td>561BA</td>\n",
       "      <td>0C14D0A20466B9E62B8C</td>\n",
       "      <td>Tarifa_desc_ATSF</td>\n",
       "      <td>621</td>\n",
       "      <td>NaN</td>\n",
       "      <td>M</td>\n",
       "      <td>-58.052</td>\n",
       "      <td>-34.954</td>\n",
       "      <td>04/12/2019 06</td>\n",
       "      <td>NaN</td>\n",
       "    </tr>\n",
       "    <tr>\n",
       "      <th>2</th>\n",
       "      <td>NaN</td>\n",
       "      <td>COL</td>\n",
       "      <td>MUNICIPAL</td>\n",
       "      <td>EMPRESA NUEVE DE JULIO S.A.T.</td>\n",
       "      <td>BSAS_LINEA_561B</td>\n",
       "      <td>561BA</td>\n",
       "      <td>0C14D0A20466B9E62B8C</td>\n",
       "      <td>Tarifa_normal</td>\n",
       "      <td>602</td>\n",
       "      <td>NaN</td>\n",
       "      <td>NaN</td>\n",
       "      <td>-58.052</td>\n",
       "      <td>-34.954</td>\n",
       "      <td>04/12/2019 06</td>\n",
       "      <td>NaN</td>\n",
       "    </tr>\n",
       "    <tr>\n",
       "      <th>3</th>\n",
       "      <td>NaN</td>\n",
       "      <td>COL</td>\n",
       "      <td>MUNICIPAL</td>\n",
       "      <td>EMPRESA NUEVE DE JULIO S.A.T.</td>\n",
       "      <td>BSAS_LINEA_561B</td>\n",
       "      <td>561BA</td>\n",
       "      <td>0C14D0A20466B9E62B8C</td>\n",
       "      <td>Tarifa_desc_ATSF</td>\n",
       "      <td>621</td>\n",
       "      <td>AUH</td>\n",
       "      <td>F</td>\n",
       "      <td>-58.052</td>\n",
       "      <td>-34.954</td>\n",
       "      <td>04/12/2019 09</td>\n",
       "      <td>NaN</td>\n",
       "    </tr>\n",
       "    <tr>\n",
       "      <th>4</th>\n",
       "      <td>NaN</td>\n",
       "      <td>COL</td>\n",
       "      <td>MUNICIPAL</td>\n",
       "      <td>EMPRESA NUEVE DE JULIO S.A.T.</td>\n",
       "      <td>BSAS_LINEA_561B</td>\n",
       "      <td>561BA</td>\n",
       "      <td>0C14D0A20466B9E62B8C</td>\n",
       "      <td>Tarifa_desc_ATSF</td>\n",
       "      <td>621</td>\n",
       "      <td>AUH</td>\n",
       "      <td>F</td>\n",
       "      <td>-58.052</td>\n",
       "      <td>-34.954</td>\n",
       "      <td>04/12/2019 09</td>\n",
       "      <td>NaN</td>\n",
       "    </tr>\n",
       "  </tbody>\n",
       "</table>\n",
       "</div>"
      ],
      "text/plain": [
       "                       NROTARJETA MODO JURISDICCION  \\\n",
       "0  7E3D75678B9506DDB9BA6459BC8700  COL    MUNICIPAL   \n",
       "1                             NaN  COL    MUNICIPAL   \n",
       "2                             NaN  COL    MUNICIPAL   \n",
       "3                             NaN  COL    MUNICIPAL   \n",
       "4                             NaN  COL    MUNICIPAL   \n",
       "\n",
       "                         ENTIDAD            LINEA  RAMAL  \\\n",
       "0  EMPRESA NUEVE DE JULIO S.A.T.  BSAS_LINEA_561B  561BA   \n",
       "1  EMPRESA NUEVE DE JULIO S.A.T.  BSAS_LINEA_561B  561BA   \n",
       "2  EMPRESA NUEVE DE JULIO S.A.T.  BSAS_LINEA_561B  561BA   \n",
       "3  EMPRESA NUEVE DE JULIO S.A.T.  BSAS_LINEA_561B  561BA   \n",
       "4  EMPRESA NUEVE DE JULIO S.A.T.  BSAS_LINEA_561B  561BA   \n",
       "\n",
       "                INTERNO       TIPO_TARIFA  CODIGOCONTRATO MOTIVO_ATS SEXO  \\\n",
       "0  0C14D0A20466B9E62B8C  Tarifa_desc_ATSF             621        AUH    F   \n",
       "1  0C14D0A20466B9E62B8C  Tarifa_desc_ATSF             621        NaN    M   \n",
       "2  0C14D0A20466B9E62B8C     Tarifa_normal             602        NaN  NaN   \n",
       "3  0C14D0A20466B9E62B8C  Tarifa_desc_ATSF             621        AUH    F   \n",
       "4  0C14D0A20466B9E62B8C  Tarifa_desc_ATSF             621        AUH    F   \n",
       "\n",
       "   LONGITUD  LATITUD     FECHA_HORA  ORDEN_TRX  \n",
       "0   -58.052  -34.954  04/12/2019 06        4.0  \n",
       "1   -58.052  -34.954  04/12/2019 06        NaN  \n",
       "2   -58.052  -34.954  04/12/2019 06        NaN  \n",
       "3   -58.052  -34.954  04/12/2019 09        NaN  \n",
       "4   -58.052  -34.954  04/12/2019 09        NaN  "
      ]
     },
     "metadata": {},
     "output_type": "display_data"
    }
   ],
   "source": [
    "with ProgressBar():\n",
    "    display(df.head())"
   ]
  },
  {
   "cell_type": "code",
   "execution_count": 5,
   "id": "pregnant-exploration",
   "metadata": {},
   "outputs": [],
   "source": [
    "columns_keep = [\"LONGITUD\",\"LATITUD\",\"FECHA_HORA\",\"RAMAL\",\"MODO\"]\n",
    "df_fil = df[columns_keep]\n",
    "\n",
    "\n",
    "cond = \"MODO\" == \"COL\"\n",
    "condition_modo = df_fil[\"MODO\"] == \"COL\"\n",
    "df_fil_modo = df_fil[condition_modo]\n",
    "\n",
    "df_fil1 = df_fil_modo.drop([\"MODO\"], axis=1)\n",
    "df_fil1[\"HORA\"] = df_fil1[\"FECHA_HORA\"].apply(lambda x: x[-2:])\n",
    "df_fil1[\"FECHA\"] = df_fil1[\"FECHA_HORA\"].apply(lambda x: datetime.strptime(x[:-3],\"%d/%m/%Y\"), meta=('x',str))\n",
    "df_fil1= df_fil1.drop([\"FECHA_HORA\"],axis=1)\n"
   ]
  },
  {
   "cell_type": "markdown",
   "id": "precise-series",
   "metadata": {},
   "source": [
    "#### INSPECT SINGLE PARTITION"
   ]
  },
  {
   "cell_type": "code",
   "execution_count": 6,
   "id": "paperback-tennessee",
   "metadata": {},
   "outputs": [
    {
     "name": "stdout",
     "output_type": "stream",
     "text": [
      "[########################################] | 100% Completed |  1hr  7min 27.7s\n"
     ]
    },
    {
     "ename": "ValueError",
     "evalue": "Partitioning on non-existent column. partition_on=['INDEX'] .columns=['LONGITUD', 'LATITUD', 'RAMAL', 'HORA']",
     "output_type": "error",
     "traceback": [
      "\u001b[0;31m---------------------------------------------------------------------------\u001b[0m",
      "\u001b[0;31mValueError\u001b[0m                                Traceback (most recent call last)",
      "\u001b[0;32m<ipython-input-6-42e4fc9ed1e5>\u001b[0m in \u001b[0;36m<module>\u001b[0;34m\u001b[0m\n\u001b[1;32m      3\u001b[0m \u001b[0mdf\u001b[0m \u001b[0;34m=\u001b[0m \u001b[0mdf\u001b[0m\u001b[0;34m.\u001b[0m\u001b[0mrepartition\u001b[0m\u001b[0;34m(\u001b[0m\u001b[0mfreq\u001b[0m\u001b[0;34m=\u001b[0m\u001b[0;34m\"1M\"\u001b[0m\u001b[0;34m)\u001b[0m\u001b[0;34m\u001b[0m\u001b[0;34m\u001b[0m\u001b[0m\n\u001b[1;32m      4\u001b[0m \u001b[0;32mwith\u001b[0m \u001b[0mProgressBar\u001b[0m\u001b[0;34m(\u001b[0m\u001b[0;34m)\u001b[0m\u001b[0;34m:\u001b[0m\u001b[0;34m\u001b[0m\u001b[0;34m\u001b[0m\u001b[0m\n\u001b[0;32m----> 5\u001b[0;31m     \u001b[0mdd\u001b[0m\u001b[0;34m.\u001b[0m\u001b[0mto_parquet\u001b[0m\u001b[0;34m(\u001b[0m\u001b[0mdf\u001b[0m\u001b[0;34m,\u001b[0m\u001b[0;34m\"datos_SUBE/month_sorted\"\u001b[0m\u001b[0;34m,\u001b[0m \u001b[0mengine\u001b[0m\u001b[0;34m=\u001b[0m\u001b[0;34m\"pyarrow\"\u001b[0m\u001b[0;34m,\u001b[0m \u001b[0mcompression\u001b[0m\u001b[0;34m=\u001b[0m\u001b[0;34m\"snappy\"\u001b[0m\u001b[0;34m,\u001b[0m \u001b[0mpartition_on\u001b[0m\u001b[0;34m=\u001b[0m\u001b[0;34m[\u001b[0m\u001b[0;34m\"INDEX\"\u001b[0m\u001b[0;34m]\u001b[0m\u001b[0;34m)\u001b[0m\u001b[0;34m\u001b[0m\u001b[0;34m\u001b[0m\u001b[0m\n\u001b[0m",
      "\u001b[0;32m~/.local/lib/python3.6/site-packages/dask/dataframe/io/parquet/core.py\u001b[0m in \u001b[0;36mto_parquet\u001b[0;34m(df, path, engine, compression, write_index, append, overwrite, ignore_divisions, partition_on, storage_options, write_metadata_file, compute, compute_kwargs, schema, **kwargs)\u001b[0m\n\u001b[1;32m    505\u001b[0m             \u001b[0;34m\"Partitioning on non-existent column. \"\u001b[0m\u001b[0;34m\u001b[0m\u001b[0;34m\u001b[0m\u001b[0m\n\u001b[1;32m    506\u001b[0m             \u001b[0;34m\"partition_on=%s .\"\u001b[0m\u001b[0;34m\u001b[0m\u001b[0;34m\u001b[0m\u001b[0m\n\u001b[0;32m--> 507\u001b[0;31m             \u001b[0;34m\"columns=%s\"\u001b[0m \u001b[0;34m%\u001b[0m \u001b[0;34m(\u001b[0m\u001b[0mstr\u001b[0m\u001b[0;34m(\u001b[0m\u001b[0mpartition_on\u001b[0m\u001b[0;34m)\u001b[0m\u001b[0;34m,\u001b[0m \u001b[0mstr\u001b[0m\u001b[0;34m(\u001b[0m\u001b[0mlist\u001b[0m\u001b[0;34m(\u001b[0m\u001b[0mdf\u001b[0m\u001b[0;34m.\u001b[0m\u001b[0mcolumns\u001b[0m\u001b[0;34m)\u001b[0m\u001b[0;34m)\u001b[0m\u001b[0;34m)\u001b[0m\u001b[0;34m\u001b[0m\u001b[0;34m\u001b[0m\u001b[0m\n\u001b[0m\u001b[1;32m    508\u001b[0m         )\n\u001b[1;32m    509\u001b[0m \u001b[0;34m\u001b[0m\u001b[0m\n",
      "\u001b[0;31mValueError\u001b[0m: Partitioning on non-existent column. partition_on=['INDEX'] .columns=['LONGITUD', 'LATITUD', 'RAMAL', 'HORA']"
     ]
    }
   ],
   "source": [
    "with ProgressBar():\n",
    "    df= df_fil1.set_index(\"FECHA\")     \n",
    "df = df.repartition(freq=\"1M\")\n"
   ]
  },
  {
   "cell_type": "code",
   "execution_count": 7,
   "id": "resistant-barcelona",
   "metadata": {},
   "outputs": [
    {
     "name": "stdout",
     "output_type": "stream",
     "text": [
      "[########################################] | 100% Completed |  1hr  5min 13.7s\n"
     ]
    }
   ],
   "source": [
    "with ProgressBar():\n",
    "    dd.to_parquet(df,\"datos_SUBE/month_sorted\", engine=\"pyarrow\", compression=\"snappy\")"
   ]
  },
  {
   "cell_type": "code",
   "execution_count": null,
   "id": "permanent-cursor",
   "metadata": {},
   "outputs": [],
   "source": []
  }
 ],
 "metadata": {
  "kernelspec": {
   "display_name": "Python 3",
   "language": "python",
   "name": "python3"
  },
  "language_info": {
   "codemirror_mode": {
    "name": "ipython",
    "version": 3
   },
   "file_extension": ".py",
   "mimetype": "text/x-python",
   "name": "python",
   "nbconvert_exporter": "python",
   "pygments_lexer": "ipython3",
   "version": "3.6.9"
  }
 },
 "nbformat": 4,
 "nbformat_minor": 5
}
